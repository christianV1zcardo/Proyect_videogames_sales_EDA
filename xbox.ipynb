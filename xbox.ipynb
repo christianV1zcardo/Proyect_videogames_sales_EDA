{
 "cells": [
  {
   "cell_type": "code",
   "execution_count": 1,
   "id": "0a2a954f",
   "metadata": {},
   "outputs": [],
   "source": [
    "import pandas as pd\n",
    "import matplotlib.pyplot as plt\n",
    "import seaborn as sns"
   ]
  },
  {
   "cell_type": "code",
   "execution_count": null,
   "id": "d5348ea2",
   "metadata": {},
   "outputs": [],
   "source": [
    "df_xbox = pd.read_csv('videogames-sales-dataset/XboxOne_GameSales.csv',\n",
    "                      encoding='latin1')\n",
    "\n",
    "df_sales = pd.read_csv('videogames-sales-dataset/Video_Games_Sales_as_at_22_Dec_2016.csv',\n",
    "                       encoding='latin1')"
   ]
  }
 ],
 "metadata": {
  "kernelspec": {
   "display_name": "venv",
   "language": "python",
   "name": "python3"
  },
  "language_info": {
   "codemirror_mode": {
    "name": "ipython",
    "version": 3
   },
   "file_extension": ".py",
   "mimetype": "text/x-python",
   "name": "python",
   "nbconvert_exporter": "python",
   "pygments_lexer": "ipython3",
   "version": "3.13.3"
  }
 },
 "nbformat": 4,
 "nbformat_minor": 5
}
